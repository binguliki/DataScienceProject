{
 "cells": [
  {
   "cell_type": "code",
   "execution_count": 1,
   "metadata": {},
   "outputs": [
    {
     "name": "stdout",
     "output_type": "stream",
     "text": [
      "/Users/Bingumalla Likith/Desktop/MLOPS/Project-2/research\n"
     ]
    }
   ],
   "source": [
    "!pwd"
   ]
  },
  {
   "cell_type": "code",
   "execution_count": 2,
   "metadata": {},
   "outputs": [],
   "source": [
    "import os\n",
    "os.chdir('../')"
   ]
  },
  {
   "cell_type": "code",
   "execution_count": 3,
   "metadata": {},
   "outputs": [
    {
     "name": "stdout",
     "output_type": "stream",
     "text": [
      "/Users/Bingumalla Likith/Desktop/MLOPS/Project-2\n"
     ]
    }
   ],
   "source": [
    "!pwd"
   ]
  },
  {
   "cell_type": "code",
   "execution_count": 4,
   "metadata": {},
   "outputs": [],
   "source": [
    "from dataclasses import dataclass\n",
    "from pathlib import Path\n",
    "\n",
    "@dataclass\n",
    "class DataIngestionConfig:\n",
    "    root_dir: Path\n",
    "    source_URL: str\n",
    "    local_data_file: Path\n",
    "    unzip_dir: Path"
   ]
  },
  {
   "cell_type": "code",
   "execution_count": 5,
   "metadata": {},
   "outputs": [],
   "source": [
    "from src.data_science.constants import *\n",
    "from src.data_science.utils.common import read_yaml, create_directories\n",
    "\n",
    "class ConfigurationManager:\n",
    "    def __init__(self,\n",
    "                config_path = CONFIG_FILE_PATH,\n",
    "                params_path = PARAMS_FILE_PATH,\n",
    "                schema_path = SCHEMA_FILE_PATH):\n",
    "        self.config = read_yaml(config_path)\n",
    "        self.params = read_yaml(params_path)\n",
    "        self.schema = read_yaml(schema_path)\n",
    "        \n",
    "        create_directories([self.config.artifacts_root])\n",
    "    \n",
    "    def get_data_ingestion_config(self) -> DataIngestionConfig:\n",
    "        config = self.config.data_ingestion\n",
    "        create_directories([config.root_dir])\n",
    "\n",
    "        data_ingestion_config = DataIngestionConfig(**config)\n",
    "        return data_ingestion_config"
   ]
  },
  {
   "cell_type": "code",
   "execution_count": 6,
   "metadata": {},
   "outputs": [],
   "source": [
    "## Component-1 => DataIngestion\n",
    "import os\n",
    "import urllib.request as request\n",
    "from src.data_science import logger\n",
    "import zipfile\n",
    "\n",
    "class DataIngestion:\n",
    "    def __init__(self, config : DataIngestionConfig):\n",
    "        self.config = config\n",
    "    \n",
    "    def download_file(self):\n",
    "        if not os.path.exists(self.config.local_data_file):\n",
    "            filename , headers = request.urlretrieve(\n",
    "                url = self.config.source_URL,\n",
    "                filename = self.config.local_data_file\n",
    "            )\n",
    "            logger.info(f\"{filename} download! with following info: \\n{headers}\")\n",
    "        else:\n",
    "            logger.info(f\"File already exists\")\n",
    "    \n",
    "    def extract_zip_file(self):\n",
    "        '''Extract the data from the zip file'''\n",
    "        unzip_dir = self.config.unzip_dir\n",
    "        os.makedirs(unzip_dir, exist_ok=True)\n",
    "        with zipfile.ZipFile(self.config.local_data_file , 'r') as file:\n",
    "            file.extractall(unzip_dir)"
   ]
  },
  {
   "cell_type": "code",
   "execution_count": 7,
   "metadata": {},
   "outputs": [
    {
     "name": "stdout",
     "output_type": "stream",
     "text": [
      "[2024-12-29 18:33:44,509 : INFO : common : Yaml file : config/config.yaml loaded successfully !!]\n",
      "[2024-12-29 18:33:44,510 : INFO : common : Yaml file : params.yaml loaded successfully !!]\n",
      "[2024-12-29 18:33:44,510 : INFO : common : Yaml file : schema.yaml loaded successfully !!]\n",
      "[2024-12-29 18:33:44,511 : INFO : common : Created directory at : artifacts]\n",
      "[2024-12-29 18:33:44,511 : INFO : common : Created directory at : artifacts/data_ingestion]\n",
      "[2024-12-29 18:33:45,571 : INFO : 1369555160 : artifacts/data_ingestion/data.zip download! with following info: \n",
      "X-GUploader-UploadID: AFiumC57YgaZtNHIiXwxh1-T5Zf3Uzg8ZHidOtuAb3ZIbmwLTsvlxl745JM5zyJcb_4m5JvOoPJ5u_c\n",
      "Expires: Sun, 29 Dec 2024 13:03:45 GMT\n",
      "Date: Sun, 29 Dec 2024 13:03:45 GMT\n",
      "Cache-Control: private, max-age=0\n",
      "Last-Modified: Fri, 13 Dec 2024 09:29:19 GMT\n",
      "ETag: \"d2c57f6b2d1976ddc86f11b70fc65bb5\"\n",
      "x-goog-generation: 1734082159542247\n",
      "x-goog-metageneration: 1\n",
      "x-goog-stored-content-encoding: identity\n",
      "x-goog-stored-content-length: 20027\n",
      "Content-Type: application/zip\n",
      "x-goog-hash: crc32c=22O7VA==\n",
      "x-goog-hash: md5=0sV/ay0Zdt3IbxG3D8ZbtQ==\n",
      "x-goog-storage-class: MULTI_REGIONAL\n",
      "Accept-Ranges: bytes\n",
      "Content-Length: 20027\n",
      "Access-Control-Allow-Origin: *\n",
      "Access-Control-Expose-Headers: Content-Type\n",
      "Access-Control-Expose-Headers: User-Agent\n",
      "Server: UploadServer\n",
      "Alt-Svc: h3=\":443\"; ma=2592000,h3-29=\":443\"; ma=2592000\n",
      "Connection: close\n",
      "\n",
      "]\n"
     ]
    }
   ],
   "source": [
    "try:\n",
    "    config = ConfigurationManager()\n",
    "    data_ingest_config = config.get_data_ingestion_config()\n",
    "    data_ingestion = DataIngestion(data_ingest_config)\n",
    "\n",
    "    data_ingestion.download_file()\n",
    "    data_ingestion.extract_zip_file()\n",
    "except Exception as e:\n",
    "    raise e"
   ]
  },
  {
   "cell_type": "code",
   "execution_count": null,
   "metadata": {},
   "outputs": [],
   "source": []
  }
 ],
 "metadata": {
  "kernelspec": {
   "display_name": "venv",
   "language": "python",
   "name": "python3"
  },
  "language_info": {
   "codemirror_mode": {
    "name": "ipython",
    "version": 3
   },
   "file_extension": ".py",
   "mimetype": "text/x-python",
   "name": "python",
   "nbconvert_exporter": "python",
   "pygments_lexer": "ipython3",
   "version": "3.12.1"
  }
 },
 "nbformat": 4,
 "nbformat_minor": 2
}
