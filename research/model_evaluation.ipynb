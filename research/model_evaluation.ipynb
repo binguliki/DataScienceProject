{
 "cells": [
  {
   "cell_type": "code",
   "execution_count": 1,
   "metadata": {},
   "outputs": [],
   "source": [
    "import os"
   ]
  },
  {
   "cell_type": "code",
   "execution_count": 2,
   "metadata": {},
   "outputs": [
    {
     "name": "stdout",
     "output_type": "stream",
     "text": [
      "/Users/Bingumalla Likith/Desktop/MLOPS/Project-2/research\n",
      "/Users/Bingumalla Likith/Desktop/MLOPS/Project-2\n"
     ]
    }
   ],
   "source": [
    "!pwd\n",
    "os.chdir('../')\n",
    "!pwd"
   ]
  },
  {
   "cell_type": "code",
   "execution_count": 6,
   "metadata": {},
   "outputs": [],
   "source": [
    "from dataclasses import dataclass\n",
    "from pathlib import Path\n",
    "from box import ConfigBox\n",
    "\n",
    "@dataclass\n",
    "class ModelEvaluationConfig:\n",
    "    target_column: str\n",
    "    root_dir: Path\n",
    "    test_data_path: Path\n",
    "    model_path: Path\n",
    "    metric_file_name: Path\n",
    "    best_params_path: ConfigBox"
   ]
  },
  {
   "cell_type": "code",
   "execution_count": 7,
   "metadata": {},
   "outputs": [],
   "source": [
    "from src.data_science.constants import CONFIG_FILE_PATH, PARAMS_FILE_PATH, SCHEMA_FILE_PATH\n",
    "from src.data_science.utils.common import read_yaml, create_directories, load_bin\n",
    "\n",
    "class ConfigurationManager:\n",
    "    def __init__(self,\n",
    "                config_path = CONFIG_FILE_PATH,\n",
    "                params_path = PARAMS_FILE_PATH,\n",
    "                schema_path = SCHEMA_FILE_PATH):\n",
    "        \n",
    "        self.config = read_yaml(config_path)\n",
    "        self.params = read_yaml(params_path)\n",
    "        self.schema = read_yaml(schema_path)\n",
    "\n",
    "        create_directories(self.config.artifacts_root)\n",
    "    \n",
    "    def get_model_evaluation_config(self) -> ModelEvaluationConfig:\n",
    "        model_evaluation_config = ModelEvaluationConfig(\n",
    "            self.schema.TARGET,\n",
    "            **self.config\n",
    "        )\n",
    "\n",
    "        return model_evaluation_config"
   ]
  },
  {
   "cell_type": "code",
   "execution_count": 9,
   "metadata": {},
   "outputs": [],
   "source": [
    "from src.data_science import logger\n",
    "from sklearn.metrics import mean_squared_error\n",
    "import pandas as pd\n",
    "\n",
    "class ModelEvaluater:\n",
    "    def __init__(self, config = ModelEvaluationConfig):\n",
    "        self.config = config\n",
    "    \n",
    "    def evaluate(self):\n",
    "        test_data = pd.read_csv(self.config.test_data_path)\n",
    "        y_test = test_data[self.config.target_column]\n",
    "        x_test = test_data.drop(columns=[self.config.target_column])\n",
    "\n",
    "        model = load_bin(self.config.model_path)\n",
    "        predictions = model.predict(x_test)\n",
    "        error = mean_squared_error(y_test, predictions)\n",
    "\n",
    "        logger.info(f\"Model error on test data : {error}\")"
   ]
  },
  {
   "cell_type": "code",
   "execution_count": null,
   "metadata": {},
   "outputs": [],
   "source": []
  }
 ],
 "metadata": {
  "kernelspec": {
   "display_name": "venv",
   "language": "python",
   "name": "python3"
  },
  "language_info": {
   "codemirror_mode": {
    "name": "ipython",
    "version": 3
   },
   "file_extension": ".py",
   "mimetype": "text/x-python",
   "name": "python",
   "nbconvert_exporter": "python",
   "pygments_lexer": "ipython3",
   "version": "3.12.1"
  }
 },
 "nbformat": 4,
 "nbformat_minor": 2
}
